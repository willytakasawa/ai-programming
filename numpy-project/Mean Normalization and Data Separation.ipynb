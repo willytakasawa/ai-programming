{
 "cells": [
  {
   "cell_type": "markdown",
   "metadata": {},
   "source": [
    "# Mean Normalization\n",
    "\n",
    "In machine learning we use large amounts of data to train our models. Some machine learning algorithms may require that the data is *normalized* in order to work correctly. The idea of normalization, also known as *feature scaling*, is to ensure that all the data is on a similar scale, *i.e.* that all the data takes on a similar range of values. For example, we might have a dataset that has values between 0 and 5,000. By normalizing the data we can make the range of values be between 0 and 1.\n",
    "\n",
    "In this lab, you will be performing a different kind of feature scaling known as *mean normalization*. Mean normalization will scale the data, but instead of making the values be between 0 and 1, it will distribute the values evenly in some small interval around zero. For example, if we have a dataset that has values between 0 and 5,000, after mean normalization the range of values will be distributed in some small range around 0, for example between -3 to 3. Because the range of values are distributed evenly around zero, this guarantees that the average (mean) of all elements will be zero. Therefore, when you perform *mean normalization* your data will not only be scaled but it will also have an average of zero. \n",
    "\n",
    "# To Do:\n",
    "\n",
    "You will start by importing NumPy and creating a rank 2 ndarray of random integers between 0 and 5,000 (inclusive) with 1000 rows and 20 columns. This array will simulate a dataset with a wide range of values. Fill in the code below"
   ]
  },
  {
   "cell_type": "code",
   "execution_count": 23,
   "metadata": {},
   "outputs": [
    {
     "name": "stdout",
     "output_type": "stream",
     "text": [
      "X dimensions: (1000, 20)\n"
     ]
    }
   ],
   "source": [
    "# import NumPy into Python\n",
    "import numpy as np\n",
    "\n",
    "# Create a 1000 x 20 ndarray with random integers in the half-open interval [0, 5001).\n",
    "X = np.random.randint(0, 5001, size=(1000, 20))\n",
    "\n",
    "# print the shape of X\n",
    "print(f'X dimensions: {X.shape}')"
   ]
  },
  {
   "cell_type": "markdown",
   "metadata": {},
   "source": [
    "Now that you created the array we will mean normalize it. We will perform mean normalization using the following equation:\n",
    "\n",
    "$\\mbox{Norm_Col}_i = \\frac{\\mbox{Col}_i - \\mu_i}{\\sigma_i}$\n",
    "\n",
    "where $\\mbox{Col}_i$ is the $i$th column of $X$, $\\mu_i$ is average of the values in the $i$th column of $X$, and $\\sigma_i$ is the standard deviation of the values in the $i$th column of $X$. In other words, mean normalization is performed by subtracting from each column of $X$ the average of its values, and then by dividing by the standard deviation of its values. In the space below, you will first calculate the average and standard deviation of each column of $X$."
   ]
  },
  {
   "cell_type": "code",
   "execution_count": 16,
   "metadata": {},
   "outputs": [],
   "source": [
    "# Average of the values in each column of X\n",
    "ave_cols = np.mean(X, axis=0)\n",
    "\n",
    "# Standard Deviation of the values in each column of X\n",
    "std_cols = np.std(X, axis=0)"
   ]
  },
  {
   "cell_type": "markdown",
   "metadata": {},
   "source": [
    "If you have done the above calculations correctly, then `ave_cols` and `std_cols`, should both be vectors with shape `(20,)` since $X$ has 20 columns. You can verify this by filling the code below:"
   ]
  },
  {
   "cell_type": "code",
   "execution_count": 25,
   "metadata": {},
   "outputs": [
    {
     "name": "stdout",
     "output_type": "stream",
     "text": [
      "Shape of ave_cols: (20,)\n",
      "Shape of ave_cols: (20,)\n"
     ]
    }
   ],
   "source": [
    "# Print the shape of ave_cols\n",
    "print(f'Shape of ave_cols: {ave_cols.shape}')\n",
    "\n",
    "# Print the shape of std_cols\n",
    "print(f'Shape of ave_cols: {std_cols.shape}')"
   ]
  },
  {
   "cell_type": "markdown",
   "metadata": {},
   "source": [
    "You can now take advantage of Broadcasting to calculate the mean normalized version of $X$ in just one line of code using the equation above. Fill in the code below"
   ]
  },
  {
   "cell_type": "code",
   "execution_count": 19,
   "metadata": {},
   "outputs": [],
   "source": [
    "# Mean normalize X\n",
    "X_norm = (X - ave_cols) / std_cols"
   ]
  },
  {
   "cell_type": "markdown",
   "metadata": {},
   "source": [
    "If you have performed the mean normalization correctly, then the average of all the elements in $X_{\\tiny{\\mbox{norm}}}$ should be close to zero, and they should be evenly distributed in some small interval around zero. You can verify this by filing the code below:"
   ]
  },
  {
   "cell_type": "code",
   "execution_count": 28,
   "metadata": {},
   "outputs": [
    {
     "name": "stdout",
     "output_type": "stream",
     "text": [
      "Average of all the values of X_norm: -7.815970093361103e-18\n",
      "Minimum value in each column of X_norm: [-1.69601388 -1.72096192 -1.74175028 -1.71828583 -1.68541039 -1.6867538\n",
      " -1.69506052 -1.74226602 -1.70604472 -1.73232997 -1.72742594 -1.7096907\n",
      " -1.72169634 -1.73503243 -1.705461   -1.71393617 -1.69901424 -1.71389996\n",
      " -1.75500892 -1.69522078]\n",
      "Maximun value in each column of X_norm: [1.69310872 1.73895907 1.72523994 1.76550528 1.71427439 1.74835333\n",
      " 1.70471682 1.66681809 1.71649463 1.70033573 1.76465242 1.77018061\n",
      " 1.75254041 1.75078018 1.70168272 1.7478531  1.67680691 1.66252557\n",
      " 1.73165012 1.76083816]\n"
     ]
    }
   ],
   "source": [
    "# Print the average of all the values of X_norm\n",
    "print(f'Average of all the values of X_norm: {X_norm.mean()}')\n",
    "\n",
    "# Print the average of the minimum value in each column of X_norm\n",
    "print(f'Minimum value in each column of X_norm: {X_norm.min(axis=0)}')\n",
    "\n",
    "# Print the average of the maximum value in each column of X_norm\n",
    "print(f'Maximun value in each column of X_norm: {X_norm.max(axis=0)}')"
   ]
  },
  {
   "cell_type": "markdown",
   "metadata": {},
   "source": [
    "You should note that since $X$ was created using random integers, the above values will vary. \n",
    "\n",
    "# Data Separation\n",
    "\n",
    "After the data has been mean normalized, it is customary in machine learnig to split our dataset into three sets:\n",
    "\n",
    "1. A Training Set\n",
    "2. A Cross Validation Set\n",
    "3. A Test Set\n",
    "\n",
    "The dataset is usually divided such that the Training Set contains 60% of the data, the Cross Validation Set contains 20% of the data, and the Test Set contains 20% of the data. \n",
    "\n",
    "In this part of the lab you will separate `X_norm` into a Training Set, Cross Validation Set, and a Test Set. Each data set will contain rows of `X_norm` chosen at random, making sure that we don't pick the same row twice. This will guarantee that all the rows of `X_norm` are chosen and randomly distributed among the three new sets.\n",
    "\n",
    "You will start by creating a rank 1 ndarray that contains a random permutation of the row indices of `X_norm`. You can do this by using the `np.random.permutation()` function. The `np.random.permutation(N)` function creates a random permutation of integers from 0 to `N - 1`. Let's see an example:"
   ]
  },
  {
   "cell_type": "code",
   "execution_count": 29,
   "metadata": {},
   "outputs": [
    {
     "data": {
      "text/plain": [
       "array([0, 3, 1, 4, 2])"
      ]
     },
     "execution_count": 29,
     "metadata": {},
     "output_type": "execute_result"
    }
   ],
   "source": [
    "# We create a random permutation of integers 0 to 4\n",
    "np.random.permutation(5)"
   ]
  },
  {
   "cell_type": "markdown",
   "metadata": {},
   "source": [
    "# To Do\n",
    "\n",
    "In the space below create a rank 1 ndarray that contains a random permutation of the row indices of `X_norm`. You can do this in one line of code by extracting the number of rows of `X_norm` using the `shape` attribute and then passing it to the  `np.random.permutation()` function. Remember the `shape` attribute returns a tuple with two numbers in the form `(rows,columns)`."
   ]
  },
  {
   "cell_type": "code",
   "execution_count": 30,
   "metadata": {},
   "outputs": [],
   "source": [
    "# Create a rank 1 ndarray that contains a random permutation of the row indices of `X_norm`\n",
    "row_indices = np.random.permutation(X_norm.shape[0])"
   ]
  },
  {
   "cell_type": "markdown",
   "metadata": {},
   "source": [
    "Now you can create the three datasets using the `row_indices` ndarray to select the rows that will go into each dataset. Rememeber that the Training Set contains 60% of the data, the Cross Validation Set contains 20% of the data, and the Test Set contains 20% of the data. Each set requires just one line of code to create. Fill in the code below"
   ]
  },
  {
   "cell_type": "code",
   "execution_count": 40,
   "metadata": {},
   "outputs": [
    {
     "data": {
      "text/plain": [
       "array([804, 891,  19, 389, 976,  17, 198, 749, 264, 895, 904, 882,  73,\n",
       "       122,  44, 504, 712, 336, 314, 151,  62, 239, 624, 603, 183, 534,\n",
       "       724, 252, 116, 207,  53, 388, 222, 193, 618, 789, 663, 567, 417,\n",
       "       690, 680, 582, 429, 915,  29, 923, 903, 962,  48, 135,  14, 544,\n",
       "       537,  74, 291, 955, 130, 569, 673, 235, 403, 990, 192, 748, 508,\n",
       "       831, 644, 998, 899, 875, 458, 427,  21, 842, 138, 835, 913, 939,\n",
       "       604, 908, 613, 487, 758, 803,  49, 152,   3, 703, 412, 166, 900,\n",
       "       300, 516,  75, 642, 247, 520, 560, 602, 410, 472, 111, 267, 878,\n",
       "       453, 381, 281, 654, 358, 140, 380, 616, 272,  82, 307,  99, 811,\n",
       "         0, 270, 132, 583, 858, 627, 352, 658,  33, 259, 438, 722, 901,\n",
       "       551, 887, 433, 730, 349, 446, 586, 228, 667, 510, 961, 376, 356,\n",
       "       543, 523, 879, 785, 763, 423, 859, 490, 545, 326, 359, 311, 817,\n",
       "       885, 527, 601, 104, 265, 796, 952, 248,  36, 112, 331, 373, 705,\n",
       "       305, 345, 485, 675, 480, 873, 363,  93, 390, 723, 284, 246,  34,\n",
       "       310, 809, 579, 697, 926, 189, 912, 729, 709, 612,  22, 261, 865,\n",
       "       320, 819, 360, 219, 201, 107, 514, 571, 798, 991, 837, 216,  90,\n",
       "       522, 177, 463, 984, 406, 917, 863, 832, 933, 139, 308, 391, 163,\n",
       "       215, 460, 488, 565, 494, 734, 876, 289,  55, 995, 760, 295, 774,\n",
       "       550, 498, 994,  92, 316, 982, 245, 194, 660,  98,  69, 828, 591,\n",
       "       481, 288, 626,  30, 857, 745, 670, 791, 886, 980, 182, 711, 721,\n",
       "       797, 643,  80, 950, 622, 753, 610, 354, 232, 986, 808, 668,  85,\n",
       "       253, 750, 382, 474, 633, 405, 496, 483, 324, 129,  54, 770, 452,\n",
       "        47, 459, 564, 266, 468, 475,  18, 102, 884,  79, 206, 948, 274,\n",
       "       767, 257, 335,  67, 542, 225, 605, 896, 562, 892, 450,   2, 754,\n",
       "       606, 902, 746, 479, 872, 634, 313, 971, 329, 539, 465,  66, 137,\n",
       "       293, 202, 268, 782, 592, 515, 996, 621, 197, 973, 306, 738, 856,\n",
       "        45, 769, 249, 773, 275, 350, 205, 938, 688, 477, 371, 231, 897,\n",
       "       100, 394, 238,  39,  68, 646, 162, 871, 432, 243, 449, 580,  63,\n",
       "       378, 927,  72, 636, 666, 134, 309, 639, 290, 506,  20, 370, 664,\n",
       "       491, 190,  96, 273, 651, 568, 681, 187, 244, 807, 930, 278, 864,\n",
       "       694, 623, 839, 106, 407, 790, 922, 302, 695, 846, 142, 330, 146,\n",
       "       108, 500, 853, 109, 810, 234, 158, 993, 128,  78, 799, 739, 870,\n",
       "       815, 816, 720, 628, 977, 802, 209, 532,  42, 766, 196, 367, 684,\n",
       "       369, 443, 319, 783, 368, 676, 780, 372, 325, 662,  38, 321, 696,\n",
       "       110, 486, 397, 469, 860, 793, 552,  23, 136, 416,  95, 188, 355,\n",
       "       941, 611, 503, 173, 351, 430, 251, 119, 117, 595, 650,  91, 230,\n",
       "       757, 910, 840, 914, 385, 566, 979, 118, 178,   7, 740, 669, 779,\n",
       "       850, 631, 827, 805,  64, 297, 874, 155, 732, 434, 170, 462, 221,\n",
       "       570, 936, 286, 959, 845, 725, 585, 972, 337, 894, 548, 296, 772,\n",
       "       338, 836, 312, 932, 867, 949, 125,  60, 521, 898,  58, 759, 929,\n",
       "       530, 648, 121, 620, 473, 677,  76, 175, 168, 454, 702, 375, 833,\n",
       "       156, 176, 242,  84,  32, 981, 556, 788, 211,  97, 848,  81, 210,\n",
       "       911, 983, 719, 559, 315,  26, 584, 937, 852, 339, 649, 185, 728,\n",
       "       818, 645, 229, 920, 489, 120, 540, 442, 665, 236, 679, 174, 683,\n",
       "       409, 726, 411, 794, 395, 813, 348, 849, 713, 617, 657, 687, 255,\n",
       "       535, 227, 685, 200, 467, 213, 598, 686, 812, 997, 420, 258, 599,\n",
       "         6, 415])"
      ]
     },
     "execution_count": 40,
     "metadata": {},
     "output_type": "execute_result"
    }
   ],
   "source": [
    "train_indices"
   ]
  },
  {
   "cell_type": "code",
   "execution_count": 46,
   "metadata": {},
   "outputs": [],
   "source": [
    "# Make any necessary calculations.\n",
    "# You can save your calculations into variables to use later.\n",
    "train_indices, remaining = np.split(row_indices, [int(0.6 * len(row_indices))])\n",
    "crossVal_indices, test_indices = np.split(remaining, [int(0.5 * len(remaining))])\n",
    "\n",
    "# Create a Training Set\n",
    "X_train = X_norm[train_indices, :]\n",
    "\n",
    "# Create a Cross Validation Set\n",
    "X_crossVal = X_norm[crossVal_indices, :]\n",
    "\n",
    "# Create a Test Set\n",
    "X_test = X_norm[test_indices, :]"
   ]
  },
  {
   "cell_type": "markdown",
   "metadata": {},
   "source": [
    "If you performed the above calculations correctly, then `X_tain` should have 600 rows and 20 columns, `X_crossVal` should have 200 rows and 20 columns, and `X_test` should have 200 rows and 20 columns. You can verify this by filling the code below:"
   ]
  },
  {
   "cell_type": "code",
   "execution_count": 47,
   "metadata": {},
   "outputs": [
    {
     "name": "stdout",
     "output_type": "stream",
     "text": [
      "X_train dimensions: (600, 20)\n",
      "X_crossVal dimensions: (200, 20)\n",
      "X_test dimensions: (200, 20)\n"
     ]
    }
   ],
   "source": [
    "# Print the shape of X_train\n",
    "print(f'X_train dimensions: {X_train.shape}')\n",
    "\n",
    "# Print the shape of X_crossVal\n",
    "print(f'X_crossVal dimensions: {X_crossVal.shape}')\n",
    "\n",
    "# Print the shape of X_test\n",
    "print(f'X_test dimensions: {X_test.shape}')"
   ]
  }
 ],
 "metadata": {
  "kernelspec": {
   "display_name": "Python 3",
   "language": "python",
   "name": "python3"
  },
  "language_info": {
   "codemirror_mode": {
    "name": "ipython",
    "version": 3
   },
   "file_extension": ".py",
   "mimetype": "text/x-python",
   "name": "python",
   "nbconvert_exporter": "python",
   "pygments_lexer": "ipython3",
   "version": "3.12.1"
  }
 },
 "nbformat": 4,
 "nbformat_minor": 2
}
